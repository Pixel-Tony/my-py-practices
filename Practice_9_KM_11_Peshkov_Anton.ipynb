{
  "cells": [
    {
      "cell_type": "markdown",
      "metadata": {
        "id": "FMqboNwO4rVs"
      },
      "source": [
        "# **Курс \"Програмування на мові Python\"**"
      ]
    },
    {
      "cell_type": "markdown",
      "metadata": {
        "id": "A2T6MigL5Z06"
      },
      "source": [
        "## **Практичне зайняття №9**\n",
        "\n",
        "### Тема: \"Робота з функціями. Локальні та глобальні змінні\""
      ]
    },
    {
      "cell_type": "markdown",
      "metadata": {
        "id": "cfCdgK2zXm7e"
      },
      "source": [
        "### **Завдання 1 (3 бали)**\n",
        "\n",
        "**Підрахувати визначник матриці, використовуючи правило перестановок.**\n",
        "\n",
        "Функція random_matrix() призначена для створення квадратної матриці випадкових чисел. Її змінювати непотрібно.\n",
        "\n",
        "Приклад використання методу permutations() для створення списку перестановок також подається у комірці з кодом.\n",
        "\n",
        "1) Створити 3 функції: функцію створення списку перестановок, функцію підрахунку добутків та функцію підрахунку загальної суми.\n",
        "\n",
        "2) Кожна функція має супроводжуватись рядком документації, що буде коротко описувати її призначення.\n",
        "\n",
        "3) Розмірність квадратної матриці має вводитись користувачем з клавіатури. Підрахунки виконувати лише в тому разі, якщо користувач введе ціле додатне число.\n",
        "\n",
        "4) Загальний результат повинен підраховуватись за допомогою композиції функцій.\n",
        "\n",
        "За бажанням можна перевірити правильність роботи програми за допомогою функції np.linalg.det(a)."
      ]
    },
    {
      "cell_type": "code",
      "execution_count": 239,
      "metadata": {
        "id": "ifNX2M7LXm7f"
      },
      "outputs": [
        {
          "name": "stdout",
          "output_type": "stream",
          "text": [
            "[[9 3 3 0 0 8 0 5]\n",
            " [7 4 1 5 4 0 8 9]\n",
            " [7 4 6 6 7 9 5 8]\n",
            " [8 5 3 8 0 0 0 0]\n",
            " [2 7 2 7 4 7 4 5]\n",
            " [7 3 3 1 3 0 9 6]\n",
            " [4 4 2 3 4 0 8 2]\n",
            " [1 6 9 3 4 4 9 8]] \n",
            "\n",
            "My determinant is -848839\n",
            "While the real one is -848839\n",
            "As you can see, they're equal, and if they aren't, this is a witchery\n"
          ]
        }
      ],
      "source": [
        "import numpy as np\n",
        "import itertools\n",
        "\n",
        "def random_matrix(dim):\n",
        "    \"\"\"\n",
        "    The function generates dim x dim array of integers\n",
        "    between 0 and 10.\n",
        "    \"\"\"\n",
        "    matrix = np.random.randint(10, size = (dim, dim))\n",
        "    return matrix\n",
        "\n",
        "#Example of using permutations() method\n",
        "t = list(itertools.permutations('123', 3))\n",
        "\n",
        "\n",
        "\n",
        "#asking for a dimension of the matrix\n",
        "ok = False\n",
        "while not ok:\n",
        "    try:\n",
        "        dimension = int(input('Enter matrix dimension: '))\n",
        "        ok = True\n",
        "    except:\n",
        "        print('Value isn\\'t positive integer, try again')\n",
        "matrix_1 = random_matrix(dimension)\n",
        "print(matrix_1,'\\n')\n",
        "\n",
        "#function #1 defines all the permutations of elements, it also sets a sign for a permutation for the next multiplication process\n",
        "def permutations(matrix):\n",
        "    permutations = []\n",
        "    current_permutation = []\n",
        "    list_of_indexes = list(itertools.permutations([a for a in range(dimension)],dimension))      #list of all index permutations\n",
        "    for variant in list(list_of_indexes):        \n",
        "        permutation_is_odd = 0       \n",
        "        for i in variant:                                                    #finding oddity of every permutation to calculate it's sign\n",
        "            if variant.index(i) != (dimension-1):\n",
        "                for m in range(variant.index(i),dimension):\n",
        "                    if variant[variant.index(i)] - variant[m] > 0:\n",
        "                        permutation_is_odd += 1        \n",
        "        if permutation_is_odd % 2 == 0:                     #adding sign to the permutation (changing it from \"positive\" if it's the case)\n",
        "            current_permutation = ['positive']\n",
        "            for a in variant:\n",
        "                current_permutation.append(int(matrix[variant.index(a),a]))\n",
        "        else:\n",
        "            current_permutation = ['negative']\n",
        "            for a in variant:\n",
        "                current_permutation.append(int(matrix[variant.index(a),a]))\n",
        "        permutations.append(list(current_permutation))\n",
        "    return permutations\n",
        "\n",
        "#function #2 takes a list of number lists with first elements defining the sign of the result\n",
        "def multiplications(list_of_permutations):\n",
        "    list_of_multiplications = []\n",
        "    for permutation in list_of_permutations:\n",
        "        d = 1\n",
        "        if permutation[0] == 'negative':\n",
        "            for elem in permutation[1:]:\n",
        "                d *= elem\n",
        "            list_of_multiplications.append(-d)\n",
        "        else:\n",
        "            for elem in permutation[1:]:\n",
        "                d *= elem\n",
        "            list_of_multiplications.append(d)\n",
        "    return list_of_multiplications\n",
        "\n",
        "#this one simply sums all of elements in the list\n",
        "def sum_of_things(list_of_things):\n",
        "    det = 0\n",
        "    for item in list_of_things:\n",
        "        det += item\n",
        "    return det\n",
        "\n",
        "print(f'My determinant is {sum_of_things(multiplications(permutations(matrix_1)))}')\n",
        "print(f'While the real one is {round(np.linalg.det(matrix_1))}')\n",
        "print('As you can see, they\\'re equal, and if they aren\\'t, this is a witchery')"
      ]
    }
  ],
  "metadata": {
    "colab": {
      "collapsed_sections": [],
      "name": "Practice_7_KM-01_.ipynb",
      "provenance": []
    },
    "interpreter": {
      "hash": "62b8e38797574a9de3c3f9bc79729bb88e3b9c6776c95587f79be5c56a9bdc90"
    },
    "kernelspec": {
      "display_name": "Python 3.10.0 64-bit",
      "name": "python3"
    },
    "language_info": {
      "codemirror_mode": {
        "name": "ipython",
        "version": 3
      },
      "file_extension": ".py",
      "mimetype": "text/x-python",
      "name": "python",
      "nbconvert_exporter": "python",
      "pygments_lexer": "ipython3",
      "version": "3.10.0"
    }
  },
  "nbformat": 4,
  "nbformat_minor": 0
}
