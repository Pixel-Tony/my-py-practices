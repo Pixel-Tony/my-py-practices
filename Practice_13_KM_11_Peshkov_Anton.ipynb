{
  "cells": [
    {
      "cell_type": "markdown",
      "metadata": {
        "id": "FMqboNwO4rVs"
      },
      "source": [
        "# **Курс \"Програмування на мові Python\"**"
      ]
    },
    {
      "cell_type": "markdown",
      "metadata": {
        "id": "A2T6MigL5Z06"
      },
      "source": [
        "## **Практичне зайняття №13**\n",
        "\n",
        "### Тема: \"Робота з файлами\""
      ]
    },
    {
      "cell_type": "markdown",
      "metadata": {
        "id": "cfCdgK2zXm7e"
      },
      "source": [
        "### **Завдання 1 (1,5 бали)**\n",
        "\n",
        "У 1939 році друком вийшов роман американського письменика Ернеста Вінсента Райта \"Ґетсбі\". Особливу увагу публіки він здобув через те, що письменник жодного разу не використав у романі літеру \"e\" (роман складається з більше ніж 50,000 слів), яка є найбільш вживаною літерою в англійській мові.\n",
        "\n",
        "Порахуйте кількість входжень кожної літери у текст роману. Виведіть список літер англійського алфавіту, а також інформацію про те, скільки відсотків від усіх літер тексту складає кожна літера алфавіту.\n",
        "\n",
        "Зауваження:\n",
        "\n",
        "1. Програма має ігнорувати будь-які символи, окрім літер.\n",
        "\n",
        "2. Переведіть усі літери у верхній або у нижній регістр.\n",
        "\n",
        "3. Під час виведення відсортуйте літери у порядку зменшення їхнього відсотка. Літера \"e\" має стояти на останньому місці у цьому списку (хоча кілька літер e там все ж таки зустрічається).\n",
        "\n",
        "4. Виведіть перші 5 та останні 5 літер відсортованого списку разом з відсотковими значеннями, що їм відповідають. Відсотки округліть до тисячних."
      ]
    },
    {
      "cell_type": "code",
      "execution_count": 94,
      "metadata": {
        "id": "u4-fHJJ6U462",
        "tags": [
          "outputPrepend"
        ]
      },
      "outputs": [
        {
          "name": "stdout",
          "output_type": "stream",
          "text": [
            "a - 10.952%\n",
            "o - 10.419%\n",
            "i - 8.825%\n",
            "n - 8.598%\n",
            "t - 8.494%\n",
            "j - 0.23%\n",
            "z - 0.107%\n",
            "x - 0.079%\n",
            "q - 0.051%\n",
            "e - 0.002%\n"
          ]
        }
      ],
      "source": [
        "letters = list('abcdefghijklmnopqrstuvwxyz')\n",
        "counter = [[0,letter] for letter in letters]\n",
        "\n",
        "with open('gadsby.txt','r') as f:\n",
        "    for line in f.readlines()[117:]:\n",
        "        for elem in counter:\n",
        "            elem[0] += line.lower().count(elem[1])\n",
        "\n",
        "total_amount = sum([item[0] for item in counter]) #holy hell that's a lot without Es\n",
        "counter = sorted([[elem[0]/total_amount, elem[1]] for elem in counter])[::-1]\n",
        "\n",
        "print(*[elem[1]+' - '+str(round(elem[0]*100, 3))+'%' for elem in counter[:5]+counter[-5:]],sep='\\n')"
      ]
    },
    {
      "cell_type": "markdown",
      "metadata": {
        "id": "A34oz70eU463"
      },
      "source": [
        "### **Завдання 2 (1,5 бали)**\n",
        "\n",
        "Архів archive.zip містить 140 txt-файлів, в яких збережено інфорамцію про те, якими іменами називали дітей у США в період з 1880 по 2019 рік.\n",
        "\n",
        "Структура рядка кожного файлу така:\n",
        "\n",
        "*name,sex,number_of_occurrences*\n",
        "\n",
        "Напишіть програму, яка зчитуватиме кожен файл та визначатиме окремо чоловічі, окремо жіночі імена, що були найпопулярнішими хоча б в один з років. Далі програма повинна підраховувати, скільки разів кожне з цих імен ставало найпопулярнишим, та виводити ранжовані списки чоловічіх та жіночих імен у вигляді:\n",
        "\n",
        "```\n",
        "Michael 44\n",
        "John 44\n",
        "Robert 17\n",
        "...\n",
        "\n",
        "Mary 76\n",
        "Jennifer 15\n",
        "Emily 12\n",
        "...\n",
        "```"
      ]
    },
    {
      "cell_type": "code",
      "execution_count": 92,
      "metadata": {},
      "outputs": [
        {
          "name": "stdout",
          "output_type": "stream",
          "text": [
            "Michael 44\n",
            "John 44\n",
            "Robert 17\n",
            "Jacob 14\n",
            "James 13\n",
            "Noah 4\n",
            "Liam 3\n",
            "David 1\n",
            " \n",
            "Mary 76\n",
            "Jennifer 15\n",
            "Emily 12\n",
            "Jessica 9\n",
            "Lisa 8\n",
            "Linda 6\n",
            "Emma 6\n",
            "Sophia 3\n",
            "Isabella 2\n",
            "Ashley 2\n",
            "Olivia 1\n"
          ]
        }
      ],
      "source": [
        "import os\n",
        "os.listdir('archive')\n",
        "lst = []\n",
        "for file in filter(lambda x: 'txt' in x,os.listdir('archive')):\n",
        "    with open('archive/'+file,'r') as f:\n",
        "        lines = f.readlines()\n",
        "        for sex in 'mf':\n",
        "            s_lines = list(filter(lambda line: sex in line.split(',')[1].lower(),lines))\n",
        "            mx = 0\n",
        "            for line in s_lines:\n",
        "                mx = max(mx,int(line.split(',')[2]))\n",
        "            lst.extend([a for a in s_lines if int(a.split(',')[2]) == mx])\n",
        "\n",
        "res = []\n",
        "for sex in 'm f':\n",
        "    x = []\n",
        "    for el in {*[a[:-2].split(',')[0] for a in lst if a.split(',')[1].lower() == sex]}:\n",
        "        x.append([sex,el,[a.split(',')[0] for a in lst].count(el)][::-1])\n",
        "    res += sorted(x)[::-1]\n",
        "\n",
        "for sex in 'm f':\n",
        "    if sex == ' ': print(' ')\n",
        "    else: print(*[str(el[1])+' '+str(el[0]) for el in res if el[2] == sex],sep='\\n')\n"
      ]
    }
  ],
  "metadata": {
    "colab": {
      "collapsed_sections": [],
      "name": "Practice_14_KM_01.ipynb",
      "provenance": []
    },
    "kernelspec": {
      "display_name": "Python 3",
      "name": "python3"
    },
    "language_info": {
      "codemirror_mode": {
        "name": "ipython",
        "version": 3
      },
      "file_extension": ".py",
      "mimetype": "text/x-python",
      "name": "python",
      "nbconvert_exporter": "python",
      "pygments_lexer": "ipython3",
      "version": "3.9.7"
    }
  },
  "nbformat": 4,
  "nbformat_minor": 0
}
