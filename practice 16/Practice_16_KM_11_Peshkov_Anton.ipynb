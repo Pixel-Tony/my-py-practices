{
  "cells": [
    {
      "cell_type": "markdown",
      "metadata": {
        "id": "FMqboNwO4rVs"
      },
      "source": [
        "# **Курс \"Програмування на мові Python\"**"
      ]
    },
    {
      "cell_type": "markdown",
      "metadata": {
        "id": "A2T6MigL5Z06"
      },
      "source": [
        "## **Практичне зайняття №16**\n",
        "\n",
        "### Тема: \"Декоратори\""
      ]
    },
    {
      "cell_type": "markdown",
      "metadata": {},
      "source": [
        "### **Завдання 1 (1,5 бали)**\n",
        "\n",
        "Реалізуйте підрахунок площі трикутника з використанням декоратора, який перевірятиме можливість побудови трикутника з трьох введених користувачем сторін.\n",
        "\n",
        "1. Напишіть функцію area_calculation, яка підраховуватиме площу трикутника за трьома сторонами. Для підрахунку можете скористатись формулою Герона.\n",
        "\n",
        "2. Напишіть функцію check, яка перевірятиме правильність введених користувачем значень (значення мають бути додатними числами, не обов'язково цілими).\n",
        "\n",
        "3. Створіть декоратор triangle_ineq, який перевірятиме виконання нерівності трикутрика для трьох заданих користувачем сторін. Навісьте декоратор triangle_ineq на функція area_calculation та перевірте правильність роботи програми."
      ]
    },
    {
      "cell_type": "code",
      "execution_count": 58,
      "metadata": {
        "id": "yiRr2CqMWxLA"
      },
      "outputs": [
        {
          "name": "stdout",
          "output_type": "stream",
          "text": [
            "All the sides are positive real numbers\n",
            "The sides are the sides of a real triangle\n",
            "The area of the triangle is 5.562\n"
          ]
        }
      ],
      "source": [
        "from math import sqrt\n",
        "\n",
        "a, b, c = [int(el) for el in input('Enter 3 sides of the triangle').split(' ')]\n",
        "\n",
        "def check(f):\n",
        "    def _(*args):\n",
        "        for el in args:\n",
        "            if el <= 0:\n",
        "                print(f'ERROR: side with length {el} <= 0')\n",
        "                return None\n",
        "        print('All the sides are positive real numbers')\n",
        "        return f(*args)\n",
        "    return _\n",
        "\n",
        "def triangle_ineq(f):\n",
        "    def _(a, b, c):\n",
        "        if a < b + c and b < c + a and c < b + a:\n",
        "            print('The sides are the sides of a real triangle')\n",
        "            return f(a, b, c)\n",
        "        else:\n",
        "            print('ERROR: triange inequality isn\\'t true for these sides')\n",
        "            return None\n",
        "    return _\n",
        "\n",
        "@check\n",
        "@triangle_ineq\n",
        "def area_calculation(a, b, c):\n",
        "    p = (a + b + c)/2\n",
        "    return round(sqrt(p*(p-a)*(p-b)*(p-c)), 3)\n",
        "\n",
        "result = area_calculation(a,b,c)\n",
        "if result: print(f'The area of the triangle is {result}')\n",
        "\n",
        "    "
      ]
    },
    {
      "cell_type": "markdown",
      "metadata": {},
      "source": [
        "### **Завдання 2 (1,5 бали)**\n",
        "\n",
        "Більшість друкованих книг (особливо це стосується книг у твердій палітурці) складаються із зошитів. Припустимо, що в друкарні текст друкується на листах паперу удвічі більших за звичайний книжковий формат. Потім ці листи складаються вдвічі, з них формуються зошити, які потім зшиваються у блок.\n",
        "\n",
        "Розглянемо конкретний приклад.\n",
        "\n",
        "Припустимо, що кожен зшитий зошит нашої книги складається з 8 листів (16 сторінок). Якщо уявити великі листи, з яких потім складаються зошити, то на кожному таком листі буде по 4 сторінки книги. У нашій книзі таких великих листів буде 4. Розглянемо перший лист. З одного боку на ньому будуть надруковані сторінки 16 та 1, з іншого - 2 та 15. На другому листі з одного боку будуть надруковані сторінки 14 та 3, з іншого - 4 та 13.\n",
        "\n",
        "**Написати програму, яка визначатиме послідовність сторінок, що будуть надруковані на кожному великому листі.**\n",
        "\n",
        "1. Користувач має вводити з клавіатури кількість сторінок у книзі (не більше 1280).\n",
        "\n",
        "2. Зверніть увагу на те, що загальна кількість сторінок у книзі має бути кратною кількості сторінок у зошиті. Якщо користувач введе число, що не задовольняє цій умові, програма повинна запропонувати користувачеві ввесте інше значення.\n",
        "\n",
        "3. Зверніть увагу на те, що на великих листах поворот аркуша відбувається за коротким краєм. Отже, якщо з одного боку аркуша надруковано сторінки 16 та 1, то з іншого 2 та 15 (а не 15, 2), якщо дивитись зліва направо.\n",
        "\n",
        "4. Функція, яка визначатиме послідовність книжкових сторінок, має виводити на екран рядок за рядком номери сторінок кожного зошита, а також кількість зошитів у книзі.\n",
        "\n",
        "5. Створіть декоратор з параметром, що прийматиме на вхід аргументи False або True, та навісьте цей декоратор на попередню функцію. Якщо параметр дорівнює False, додаткові функції декоратора не повинні виконуватись, тобто має виконатись лише функція з п. 4. Якщо параметр дорівнює True, декоратор повинен створювати список усіх сторінок у потрібній послідовності та роздруковувати його. Номери сторінок кожного зошита мають зберігатись в окремому вкладеному списку. Для 16-сторінкового зошита список повинен мати вигляд:\n",
        "\n",
        "`[[16, 1, 2, 15, 14, 3, 4, 13, ..., 10, 7, 8, 9], [32, 17, 18, 31, ...], ... ]`\n",
        "\n",
        "**Бонусне завдання (за бажанням)**\n",
        "\n",
        "6. Замість функції з п. 4 створіть генератор, який буде визначати послідовність книжкових сторінок для кожного зошита. Ці рядки можна потім вивести або у циклі, або за допомогою функції next(). Функція-декоратор має працювати з цим генератором так само, як і зі звичайною функцією."
      ]
    },
    {
      "cell_type": "code",
      "execution_count": 1,
      "metadata": {},
      "outputs": [
        {
          "name": "stdout",
          "output_type": "stream",
          "text": [
            "First type (classic) (list of lists):\n",
            "[[16, 1, 2, 15, 14, 3, 4, 13, 12, 5, 6, 11, 10, 7, 8, 9], [32, 17, 18, 31, 30, 19, 20, 29, 28, 21, 22, 27, 26, 23, 24, 25]]\n",
            "> book has 2 notebooks in it\n",
            "* * * * * * * * * * * * * * * * * * * * * * * * * \n",
            "Second type (list) (generator):\n",
            "16 1 2 15 14 3 4 13 12 5 6 11 10 7 8 9\n",
            "32 17 18 31 30 19 20 29 28 21 22 27 26 23 24 25\n",
            "> book has 2 notebooks in it\n"
          ]
        }
      ],
      "source": [
        "from functools import reduce\n",
        "\n",
        "book_pages = input('Enter the number of pages in a book')\n",
        "while book_pages not in [str(a) for a in range(16, 1281, 16)]:\n",
        "    print('The number isn\\'t correct')\n",
        "    book_pages = input('Enter the number of pages, less than 1280, divisible by 16')\n",
        "book_pages = int(book_pages)\n",
        "\n",
        "def presentation_fabric_i_think(f_type='list', classic=True):\n",
        "    def wrap(f):\n",
        "        def wrapper(arg):\n",
        "            result = (f(arg) if f_type == 'list' else [*f(arg)] if f_type == 'gen' else None)\n",
        "            if result == None:\n",
        "                raise ValueError(f'`{f_type}` isn\\'t a valid function type, choose `gen` or `list`') # Why not\n",
        "            if not classic:\n",
        "                print(result[:-1])\n",
        "                print(result[-1][0])\n",
        "            else:\n",
        "                for line in result:\n",
        "                    print(*line)\n",
        "        return wrapper\n",
        "    return wrap\n",
        "\n",
        "@presentation_fabric_i_think(classic=False)\n",
        "def list_of_page_numbers(book_pages):\n",
        "    def numeration(pages):\n",
        "        lst = []\n",
        "        for page in range(0, 8, 2):\n",
        "            lst += [pages - page, (page + 1) + (pages - 16), (page + 2) + (pages - 16), pages - page - 1]\n",
        "        return lst\n",
        "    result = []\n",
        "    pages = [*range(16, book_pages+1, 16)]\n",
        "    for notebook_pages in pages:\n",
        "        result.append(numeration(notebook_pages))\n",
        "    return result + [[f'> book has {book_pages//16} notebooks in it']]\n",
        "\n",
        "@presentation_fabric_i_think('gen')\n",
        "def num_gen(book_pages):\n",
        "    for pages in range(16, book_pages+1, 16):\n",
        "        yield reduce(lambda res, lst: res + lst, [[pages-page, (page+1)+(pages-16), (page+2)+(pages-16), pages-page-1] for page in range(0, 8, 2)])\n",
        "    yield [f'> book has {book_pages//16} notebooks in it']\n",
        "\n",
        "\n",
        "print('First type (classic) (list of lists):')\n",
        "list_of_page_numbers(book_pages)\n",
        "print(f'{\"* \"*25}\\nSecond type (list) (generator):')\n",
        "num_gen(book_pages)"
      ]
    }
  ],
  "metadata": {
    "colab": {
      "collapsed_sections": [],
      "name": "Practice_10-11_KM_01_.ipynb",
      "provenance": []
    },
    "kernelspec": {
      "display_name": "Python 3",
      "name": "python3"
    },
    "language_info": {
      "codemirror_mode": {
        "name": "ipython",
        "version": 3
      },
      "file_extension": ".py",
      "mimetype": "text/x-python",
      "name": "python",
      "nbconvert_exporter": "python",
      "pygments_lexer": "ipython3",
      "version": "3.10.1"
    }
  },
  "nbformat": 4,
  "nbformat_minor": 0
}
