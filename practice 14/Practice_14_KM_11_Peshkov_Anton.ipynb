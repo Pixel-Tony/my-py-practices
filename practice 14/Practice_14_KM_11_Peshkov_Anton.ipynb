{
  "cells": [
    {
      "cell_type": "markdown",
      "metadata": {
        "id": "FMqboNwO4rVs"
      },
      "source": [
        "# **Курс \"Програмування на мові Python\"**"
      ]
    },
    {
      "cell_type": "markdown",
      "metadata": {
        "id": "A2T6MigL5Z06"
      },
      "source": [
        "## **Практичне зайняття №14**\n",
        "\n",
        "### Тема: \"Робота зі спеціальними форматами файлів\""
      ]
    },
    {
      "cell_type": "markdown",
      "metadata": {
        "id": "A34oz70eU463"
      },
      "source": [
        "### **Завдання 1 (1,5 бали)**\n",
        "\n",
        "Створіть CSV-файл, що буде містити від 5 до 10 пісень (творів) вашого улюбленого музиканта. Назва файлу - ім'я музиканта (композитора) або назва гурту.\n",
        "\n",
        "1. Обов'язково додайте до файлу рядок з назвами двох колонок (Song, Year) або (Composition, Year).\n",
        "\n",
        "2. Після запису файлу роздрукуйте назву файлу та усі наявні у файлі рядки (включно із заголовками).\n",
        "\n",
        "3. Для запису та зчитування рядків скористайтесь функціями csv.DictWriter() та csv.DictReader()."
      ]
    },
    {
      "cell_type": "code",
      "execution_count": 5,
      "metadata": {
        "id": "MEJIrG1GU463"
      },
      "outputs": [
        {
          "name": "stdout",
          "output_type": "stream",
          "text": [
            "Rat Bat Blue - 1973\n",
            "Child In Time - 1970\n",
            "Burn - 1974\n",
            "Smoke on the Water - 1971\n",
            "Highway Star - 1972\n"
          ]
        }
      ],
      "source": [
        "import csv\n",
        "song1 = {}\n",
        "data = [['Rat Bat Blue', 1973], \n",
        "        ['Child In Time', 1970], \n",
        "        ['Burn', 1974], \n",
        "        ['Smoke on the Water', 1971], \n",
        "        ['Highway Star', 1972]]\n",
        "\n",
        "#ima too lazy to rewrite it\n",
        "data = [{'Song': line[0], 'Year': line[1]} for line in data]\n",
        "\n",
        "with open('res.csv','w',newline='') as file:\n",
        "    writer = csv.DictWriter(file,fieldnames=['Song','Year'])\n",
        "    writer.writeheader()\n",
        "    for line in data:\n",
        "        writer.writerow(line)\n",
        "\n",
        "with open('res.csv','r',newline='') as file:\n",
        "    reader = csv.DictReader(file)\n",
        "    for row in reader:\n",
        "        print(row['Song'],row['Year'],sep=' - ')"
      ]
    },
    {
      "cell_type": "markdown",
      "metadata": {
        "id": "Jb-eSBsWU464"
      },
      "source": [
        "### **Завдання 2 (1,5 бали)**\n",
        "\n",
        "COCO Dataset - набір фотографій та анотацій до них. Його дуже часто використовують для тренування класифікаторів, призначених для розпізнавання об'єктів та визначення ключових точок на зображеннях.\n",
        "\n",
        "Завантажте файли з описом фотографій COCO Dataset за посиланням: [COCO Dataset](http://images.cocodataset.org/annotations/image_info_test2017.zip).\n",
        "\n",
        "Відкрийте файл image_info_test-dev2017.json. Інформація про фотографії з бази COCO міститься у полі \"images\". Інформація про категорії, на які розділені всі фотографії, міститься у полі \"categories\".\n",
        "\n",
        "1. Визначте кількість фотографій, інформацію про які можна знайти у цьому файлі (кількість елементів, що відповідають ключу \"images\").\n",
        "\n",
        "2. Визначте кількість наявних категорій (кількість елементів, що відповідають ключу \"categories\").\n",
        "\n",
        "3. Виведіть посилання на фотографію 000000000001.jpg (\"coco_url\"). Також виведіть висоту цієї фотографії (\"height\"), ширину (\"width\") та її ідентифікатор (\"id\").\n",
        "\n",
        "4. Виведіть назву фотографії з набільшим номером.\n",
        "\n",
        "Опис структури JSON-файлу для набору фотографій COCO можна знайти за посиланням: [Data format](https://cocodataset.org/#format-data).\n",
        "\n",
        "Щоб перевірити правильність результатів, у VS Code встановіть розширення JSON та відкрийте файл image_info_test-dev2017.json. Розширення автоматично визначає кількість елементів у кожному полі."
      ]
    },
    {
      "cell_type": "code",
      "execution_count": 4,
      "metadata": {},
      "outputs": [
        {
          "name": "stdout",
          "output_type": "stream",
          "text": [
            "There are 20288 images in 80 categories\n",
            "Image 000000000001.jpg:\n",
            "* is 480x640,\n",
            "* it's id is 1,\n",
            "* the link to it is [http://images.cocodataset.org/test2017/000000000001.jpg]\n",
            "\n",
            "The image with the biggest number is 000000581918.jpg\n"
          ]
        }
      ],
      "source": [
        "import json\n",
        "import re\n",
        "\n",
        "with open('image_info_test-dev2017.json','r') as jsonfile:\n",
        "    file = json.load(jsonfile)\n",
        "    image = [image for image in file[\"images\"] if image['file_name'] == '000000000001.jpg'][0]\n",
        "    pattern = r'(\\d+)\\.([a-z]+)'\n",
        "    re.compile(pattern)\n",
        "\n",
        "    # I wouldn't do such a gross thing if I'd been sure all of them are jpgs\n",
        "    numbers = {int(re.findall(pattern, name)[0][0]) : name for name in [img[\"file_name\"] for img in file[\"images\"]]}\n",
        "    largest_number = numbers[max(a for a in numbers)]\n",
        "\n",
        "    print(f'There are {len(file[\"images\"])} images in {len(file[\"categories\"])} categories')\n",
        "    print(f'Image {image[\"file_name\"]}:')\n",
        "    print(f'* is {image[\"height\"]}x{image[\"width\"]},')\n",
        "    print(f'* it\\'s id is {image[\"id\"]},')\n",
        "    print(f'* the link to it is [{image[\"coco_url\"]}]')\n",
        "    print(f'\\nThe image with the biggest number is {largest_number}')\n"
      ]
    }
  ],
  "metadata": {
    "colab": {
      "collapsed_sections": [],
      "name": "Practice_14_KM_01.ipynb",
      "provenance": []
    },
    "kernelspec": {
      "display_name": "Python 3",
      "name": "python3"
    },
    "language_info": {
      "codemirror_mode": {
        "name": "ipython",
        "version": 3
      },
      "file_extension": ".py",
      "mimetype": "text/x-python",
      "name": "python",
      "nbconvert_exporter": "python",
      "pygments_lexer": "ipython3",
      "version": "3.9.7"
    }
  },
  "nbformat": 4,
  "nbformat_minor": 0
}
